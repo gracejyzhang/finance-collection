{
 "cells": [
  {
   "cell_type": "code",
   "execution_count": 2,
   "metadata": {},
   "outputs": [],
   "source": [
    "import pandas as pd\n",
    "import numpy as np\n",
    "import matplotlib.pyplot as plt\n",
    "from scipy.optimize import minimize \n",
    "from data_retriever import read_tickers\n",
    "from collections import defaultdict\n",
    "\n",
    "import warnings\n",
    "warnings.filterwarnings('ignore')"
   ]
  },
  {
   "cell_type": "markdown",
   "metadata": {},
   "source": [
    "### Format Data"
   ]
  },
  {
   "cell_type": "code",
   "execution_count": 3,
   "metadata": {},
   "outputs": [
    {
     "data": {
      "text/html": [
       "<div>\n",
       "<style scoped>\n",
       "    .dataframe tbody tr th:only-of-type {\n",
       "        vertical-align: middle;\n",
       "    }\n",
       "\n",
       "    .dataframe tbody tr th {\n",
       "        vertical-align: top;\n",
       "    }\n",
       "\n",
       "    .dataframe thead th {\n",
       "        text-align: right;\n",
       "    }\n",
       "</style>\n",
       "<table border=\"1\" class=\"dataframe\">\n",
       "  <thead>\n",
       "    <tr style=\"text-align: right;\">\n",
       "      <th></th>\n",
       "      <th>AAPL</th>\n",
       "      <th>AMZN</th>\n",
       "      <th>GOOGL</th>\n",
       "      <th>FB</th>\n",
       "      <th>NFLX</th>\n",
       "      <th>TSLA</th>\n",
       "    </tr>\n",
       "  </thead>\n",
       "  <tbody>\n",
       "    <tr>\n",
       "      <th>2016-01-04</th>\n",
       "      <td>24.320249</td>\n",
       "      <td>636.99</td>\n",
       "      <td>759.44</td>\n",
       "      <td>102.22</td>\n",
       "      <td>109.960</td>\n",
       "      <td>44.682</td>\n",
       "    </tr>\n",
       "    <tr>\n",
       "      <th>2016-01-05</th>\n",
       "      <td>23.710800</td>\n",
       "      <td>633.79</td>\n",
       "      <td>761.53</td>\n",
       "      <td>102.73</td>\n",
       "      <td>107.660</td>\n",
       "      <td>44.686</td>\n",
       "    </tr>\n",
       "    <tr>\n",
       "      <th>2016-01-06</th>\n",
       "      <td>23.246788</td>\n",
       "      <td>632.65</td>\n",
       "      <td>759.33</td>\n",
       "      <td>102.97</td>\n",
       "      <td>117.680</td>\n",
       "      <td>43.808</td>\n",
       "    </tr>\n",
       "    <tr>\n",
       "      <th>2016-01-07</th>\n",
       "      <td>22.265667</td>\n",
       "      <td>607.94</td>\n",
       "      <td>741.00</td>\n",
       "      <td>97.92</td>\n",
       "      <td>114.560</td>\n",
       "      <td>43.130</td>\n",
       "    </tr>\n",
       "    <tr>\n",
       "      <th>2016-01-08</th>\n",
       "      <td>22.383401</td>\n",
       "      <td>607.05</td>\n",
       "      <td>730.91</td>\n",
       "      <td>97.33</td>\n",
       "      <td>111.390</td>\n",
       "      <td>42.200</td>\n",
       "    </tr>\n",
       "    <tr>\n",
       "      <th>...</th>\n",
       "      <td>...</td>\n",
       "      <td>...</td>\n",
       "      <td>...</td>\n",
       "      <td>...</td>\n",
       "      <td>...</td>\n",
       "      <td>...</td>\n",
       "    </tr>\n",
       "    <tr>\n",
       "      <th>2018-12-24</th>\n",
       "      <td>35.738300</td>\n",
       "      <td>1343.96</td>\n",
       "      <td>984.67</td>\n",
       "      <td>124.06</td>\n",
       "      <td>233.880</td>\n",
       "      <td>59.078</td>\n",
       "    </tr>\n",
       "    <tr>\n",
       "      <th>2018-12-26</th>\n",
       "      <td>38.255048</td>\n",
       "      <td>1470.90</td>\n",
       "      <td>1047.85</td>\n",
       "      <td>134.18</td>\n",
       "      <td>253.670</td>\n",
       "      <td>65.218</td>\n",
       "    </tr>\n",
       "    <tr>\n",
       "      <th>2018-12-27</th>\n",
       "      <td>38.006781</td>\n",
       "      <td>1461.64</td>\n",
       "      <td>1052.90</td>\n",
       "      <td>134.52</td>\n",
       "      <td>255.565</td>\n",
       "      <td>63.226</td>\n",
       "    </tr>\n",
       "    <tr>\n",
       "      <th>2018-12-28</th>\n",
       "      <td>38.026253</td>\n",
       "      <td>1478.02</td>\n",
       "      <td>1046.68</td>\n",
       "      <td>133.20</td>\n",
       "      <td>256.080</td>\n",
       "      <td>66.774</td>\n",
       "    </tr>\n",
       "    <tr>\n",
       "      <th>2018-12-31</th>\n",
       "      <td>38.393785</td>\n",
       "      <td>1501.97</td>\n",
       "      <td>1044.96</td>\n",
       "      <td>131.09</td>\n",
       "      <td>267.660</td>\n",
       "      <td>66.560</td>\n",
       "    </tr>\n",
       "  </tbody>\n",
       "</table>\n",
       "<p>754 rows × 6 columns</p>\n",
       "</div>"
      ],
      "text/plain": [
       "                 AAPL     AMZN    GOOGL      FB     NFLX    TSLA\n",
       "2016-01-04  24.320249   636.99   759.44  102.22  109.960  44.682\n",
       "2016-01-05  23.710800   633.79   761.53  102.73  107.660  44.686\n",
       "2016-01-06  23.246788   632.65   759.33  102.97  117.680  43.808\n",
       "2016-01-07  22.265667   607.94   741.00   97.92  114.560  43.130\n",
       "2016-01-08  22.383401   607.05   730.91   97.33  111.390  42.200\n",
       "...               ...      ...      ...     ...      ...     ...\n",
       "2018-12-24  35.738300  1343.96   984.67  124.06  233.880  59.078\n",
       "2018-12-26  38.255048  1470.90  1047.85  134.18  253.670  65.218\n",
       "2018-12-27  38.006781  1461.64  1052.90  134.52  255.565  63.226\n",
       "2018-12-28  38.026253  1478.02  1046.68  133.20  256.080  66.774\n",
       "2018-12-31  38.393785  1501.97  1044.96  131.09  267.660  66.560\n",
       "\n",
       "[754 rows x 6 columns]"
      ]
     },
     "execution_count": 3,
     "metadata": {},
     "output_type": "execute_result"
    }
   ],
   "source": [
    "# read in data\n",
    "tickers1 = ['AAPL', 'AMZN', 'GOOGL', 'FB','NFLX','TSLA']\n",
    "df1 = pd.DataFrame()\n",
    "\n",
    "for symbol in tickers1:\n",
    "    try:\n",
    "        adj_close = pd.read_csv(f'data/time_series_daily_curated/{symbol}.csv', index_col=0).loc['5. adjusted close',:]\n",
    "        adj_close.name = symbol\n",
    "        df1 = df1.append(adj_close)\n",
    "    except:\n",
    "        continue\n",
    "        \n",
    "df1 = df1.transpose()\n",
    "\n",
    "# convert index to datetime\n",
    "df1.index = pd.to_datetime(df1.index, infer_datetime_format=True)\n",
    "df1_train = df1.loc['2016-01-01':'2018-12-31']\n",
    "df1_test = df1.loc['2019-01-01':'2019-12-31']\n",
    "\n",
    "df1_train"
   ]
  },
  {
   "cell_type": "code",
   "execution_count": 4,
   "metadata": {},
   "outputs": [
    {
     "data": {
      "text/html": [
       "<div>\n",
       "<style scoped>\n",
       "    .dataframe tbody tr th:only-of-type {\n",
       "        vertical-align: middle;\n",
       "    }\n",
       "\n",
       "    .dataframe tbody tr th {\n",
       "        vertical-align: top;\n",
       "    }\n",
       "\n",
       "    .dataframe thead th {\n",
       "        text-align: right;\n",
       "    }\n",
       "</style>\n",
       "<table border=\"1\" class=\"dataframe\">\n",
       "  <thead>\n",
       "    <tr style=\"text-align: right;\">\n",
       "      <th></th>\n",
       "      <th>IGV</th>\n",
       "      <th>SPY</th>\n",
       "      <th>QQQ</th>\n",
       "      <th>IWM</th>\n",
       "      <th>DIA</th>\n",
       "      <th>XLE</th>\n",
       "      <th>XLP</th>\n",
       "    </tr>\n",
       "  </thead>\n",
       "  <tbody>\n",
       "    <tr>\n",
       "      <th>2016-01-04</th>\n",
       "      <td>99.820045</td>\n",
       "      <td>181.835178</td>\n",
       "      <td>104.656743</td>\n",
       "      <td>102.545867</td>\n",
       "      <td>152.484426</td>\n",
       "      <td>47.906996</td>\n",
       "      <td>43.283997</td>\n",
       "    </tr>\n",
       "    <tr>\n",
       "      <th>2016-01-05</th>\n",
       "      <td>99.751285</td>\n",
       "      <td>182.142727</td>\n",
       "      <td>104.475146</td>\n",
       "      <td>102.769583</td>\n",
       "      <td>152.573448</td>\n",
       "      <td>48.089726</td>\n",
       "      <td>43.561848</td>\n",
       "    </tr>\n",
       "    <tr>\n",
       "      <th>2016-01-06</th>\n",
       "      <td>98.572540</td>\n",
       "      <td>179.845143</td>\n",
       "      <td>103.471589</td>\n",
       "      <td>101.203571</td>\n",
       "      <td>150.392428</td>\n",
       "      <td>46.238593</td>\n",
       "      <td>43.414239</td>\n",
       "    </tr>\n",
       "    <tr>\n",
       "      <th>2016-01-07</th>\n",
       "      <td>96.048061</td>\n",
       "      <td>175.530376</td>\n",
       "      <td>100.231530</td>\n",
       "      <td>98.500334</td>\n",
       "      <td>146.849384</td>\n",
       "      <td>45.110435</td>\n",
       "      <td>42.893269</td>\n",
       "    </tr>\n",
       "    <tr>\n",
       "      <th>2016-01-08</th>\n",
       "      <td>94.888962</td>\n",
       "      <td>173.603653</td>\n",
       "      <td>99.409569</td>\n",
       "      <td>96.803821</td>\n",
       "      <td>145.318219</td>\n",
       "      <td>44.530466</td>\n",
       "      <td>42.563320</td>\n",
       "    </tr>\n",
       "    <tr>\n",
       "      <th>...</th>\n",
       "      <td>...</td>\n",
       "      <td>...</td>\n",
       "      <td>...</td>\n",
       "      <td>...</td>\n",
       "      <td>...</td>\n",
       "      <td>...</td>\n",
       "      <td>...</td>\n",
       "    </tr>\n",
       "    <tr>\n",
       "      <th>2018-12-24</th>\n",
       "      <td>158.195582</td>\n",
       "      <td>224.955183</td>\n",
       "      <td>141.145844</td>\n",
       "      <td>122.237621</td>\n",
       "      <td>207.840541</td>\n",
       "      <td>46.685353</td>\n",
       "      <td>45.870790</td>\n",
       "    </tr>\n",
       "    <tr>\n",
       "      <th>2018-12-26</th>\n",
       "      <td>168.500804</td>\n",
       "      <td>236.321016</td>\n",
       "      <td>149.958853</td>\n",
       "      <td>128.112562</td>\n",
       "      <td>217.951445</td>\n",
       "      <td>49.590181</td>\n",
       "      <td>47.150992</td>\n",
       "    </tr>\n",
       "    <tr>\n",
       "      <th>2018-12-27</th>\n",
       "      <td>171.034874</td>\n",
       "      <td>238.135325</td>\n",
       "      <td>150.539174</td>\n",
       "      <td>128.646647</td>\n",
       "      <td>220.381492</td>\n",
       "      <td>49.850315</td>\n",
       "      <td>47.602828</td>\n",
       "    </tr>\n",
       "    <tr>\n",
       "      <th>2018-12-28</th>\n",
       "      <td>170.756623</td>\n",
       "      <td>237.828141</td>\n",
       "      <td>150.460486</td>\n",
       "      <td>129.015652</td>\n",
       "      <td>219.638184</td>\n",
       "      <td>49.468785</td>\n",
       "      <td>47.602828</td>\n",
       "    </tr>\n",
       "    <tr>\n",
       "      <th>2018-12-31</th>\n",
       "      <td>172.441035</td>\n",
       "      <td>239.911237</td>\n",
       "      <td>151.729323</td>\n",
       "      <td>130.025559</td>\n",
       "      <td>222.230234</td>\n",
       "      <td>49.728919</td>\n",
       "      <td>47.800507</td>\n",
       "    </tr>\n",
       "  </tbody>\n",
       "</table>\n",
       "<p>754 rows × 7 columns</p>\n",
       "</div>"
      ],
      "text/plain": [
       "                   IGV         SPY         QQQ         IWM         DIA  \\\n",
       "2016-01-04   99.820045  181.835178  104.656743  102.545867  152.484426   \n",
       "2016-01-05   99.751285  182.142727  104.475146  102.769583  152.573448   \n",
       "2016-01-06   98.572540  179.845143  103.471589  101.203571  150.392428   \n",
       "2016-01-07   96.048061  175.530376  100.231530   98.500334  146.849384   \n",
       "2016-01-08   94.888962  173.603653   99.409569   96.803821  145.318219   \n",
       "...                ...         ...         ...         ...         ...   \n",
       "2018-12-24  158.195582  224.955183  141.145844  122.237621  207.840541   \n",
       "2018-12-26  168.500804  236.321016  149.958853  128.112562  217.951445   \n",
       "2018-12-27  171.034874  238.135325  150.539174  128.646647  220.381492   \n",
       "2018-12-28  170.756623  237.828141  150.460486  129.015652  219.638184   \n",
       "2018-12-31  172.441035  239.911237  151.729323  130.025559  222.230234   \n",
       "\n",
       "                  XLE        XLP  \n",
       "2016-01-04  47.906996  43.283997  \n",
       "2016-01-05  48.089726  43.561848  \n",
       "2016-01-06  46.238593  43.414239  \n",
       "2016-01-07  45.110435  42.893269  \n",
       "2016-01-08  44.530466  42.563320  \n",
       "...               ...        ...  \n",
       "2018-12-24  46.685353  45.870790  \n",
       "2018-12-26  49.590181  47.150992  \n",
       "2018-12-27  49.850315  47.602828  \n",
       "2018-12-28  49.468785  47.602828  \n",
       "2018-12-31  49.728919  47.800507  \n",
       "\n",
       "[754 rows x 7 columns]"
      ]
     },
     "execution_count": 4,
     "metadata": {},
     "output_type": "execute_result"
    }
   ],
   "source": [
    "# read in data\n",
    "tickers2 = ['IGV','SPY','QQQ','IWM','DIA','XLE','XLP']\n",
    "df2 = pd.DataFrame()\n",
    "\n",
    "for symbol in tickers2:\n",
    "    try:\n",
    "        adj_close = pd.read_csv(f'data/time_series_daily_curated/{symbol}.csv', index_col=0).loc['5. adjusted close',:]\n",
    "        adj_close.name = symbol\n",
    "        df2 = df2.append(adj_close)\n",
    "    except:\n",
    "        continue\n",
    "        \n",
    "df2 = df2.transpose()\n",
    "\n",
    "# convert index to datetime\n",
    "df2.index = pd.to_datetime(df2.index, infer_datetime_format=True)\n",
    "df2_train = df2.loc['2016-01-01':'2018-12-31']\n",
    "df2_test = df2.loc['2019-01-01':'2019-12-31']\n",
    "\n",
    "df2_train"
   ]
  },
  {
   "cell_type": "markdown",
   "metadata": {},
   "source": [
    "### Analysis & Metrics"
   ]
  },
  {
   "cell_type": "code",
   "execution_count": 5,
   "metadata": {},
   "outputs": [],
   "source": [
    "RISK_FREE_RATE = 0.0162 # current risk free rate\n",
    "NUM_TRADING_DAYS = 250\n",
    "\n",
    "\n",
    "# returns expected_returns and cov_matrix\n",
    "def extract_info(df):\n",
    "    returns = df.pct_change().mean()\n",
    "    cov = df.pct_change().apply(lambda x : np.log(1+x)).cov()\n",
    "    return returns, cov\n",
    "\n",
    "\n",
    "# annualised performance of given weights\n",
    "def annualised_performance(weights, expected_returns, cov_matrix):\n",
    "    returns = np.dot(weights, expected_returns) * NUM_TRADING_DAYS\n",
    "    volatility = np.sqrt(cov_matrix.mul(weights, axis=0).mul(weights, axis=1).sum().sum() * NUM_TRADING_DAYS)\n",
    "    return returns, volatility"
   ]
  },
  {
   "cell_type": "markdown",
   "metadata": {},
   "source": [
    "### Sharpe Ratio"
   ]
  },
  {
   "cell_type": "code",
   "execution_count": 6,
   "metadata": {},
   "outputs": [],
   "source": [
    "# sharpe ratio\n",
    "def sharpe_ratio(weights, expected_returns, cov_matrix):\n",
    "    returns, volatility = annualised_performance(weights, expected_returns, cov_matrix)\n",
    "    return (returns - RISK_FREE_RATE) / volatility\n",
    "\n",
    "\n",
    "# negative sharpe ratio\n",
    "def neg_sharpe_ratio(weights, expected_returns, cov_matrix):\n",
    "    return -sharpe_ratio(weights, expected_returns, cov_matrix)\n",
    "\n",
    "\n",
    "def optimize_sharpe_ratio(expected_returns, cov_matrix):\n",
    "    num_assets = len(expected_returns) \n",
    "    args = (expected_returns, cov_matrix)\n",
    "    bounds = tuple((0.0, 1.0) for asset in range(num_assets))\n",
    "    constraints = ({'type': 'eq', 'fun': lambda x: np.sum(x) - 1})\n",
    "    return minimize(neg_sharpe_ratio, num_assets * [1/num_assets], args=args, bounds=bounds, constraints=constraints)"
   ]
  },
  {
   "cell_type": "code",
   "execution_count": 13,
   "metadata": {},
   "outputs": [
    {
     "name": "stdout",
     "output_type": "stream",
     "text": [
      "Random sharpe ratio: 0.8353886198810917\n",
      "\n",
      "Optimized sharpe ratio: 1.1350974453634086\n",
      "Optimized annualised returns: 0.3246669231197516\n",
      "Optimized annualised volatility: 0.27175369337651356\n",
      "Optimized weights: [0.07145968 0.63675259 0.         0.         0.24685923 0.0449285 ]\n"
     ]
    }
   ],
   "source": [
    "expected_returns, cov_matrix = extract_info(df1_train)\n",
    "\n",
    "# random weights\n",
    "weights = np.random.random(len(expected_returns))\n",
    "weights = weights / np.sum(weights)\n",
    "print(f'Random sharpe ratio: {sharpe_ratio(weights, expected_returns, cov_matrix)}\\n')\n",
    "\n",
    "# optimized weights\n",
    "result = optimize_sharpe_ratio(expected_returns, cov_matrix).x\n",
    "returns, volatility = annualised_performance(result, expected_returns, cov_matrix)\n",
    "print(f'Optimized sharpe ratio: {sharpe_ratio(result, expected_returns, cov_matrix)}')\n",
    "print(f'Optimized annualised returns: {returns}')\n",
    "print(f'Optimized annualised volatility: {volatility}')\n",
    "print(f'Optimized weights: {result}')"
   ]
  },
  {
   "cell_type": "markdown",
   "metadata": {},
   "source": [
    "### Efficient Frontier\n",
    "The efficient frontier is the set of optimal portfolios that offer the highest expected return for a defined level of risk or the lowest risk for a given level of expected return.\n",
    "\n",
    "We can calculate it by minimizing the risk for a range of given returns or maximize returns for a given range of risks."
   ]
  },
  {
   "cell_type": "code",
   "execution_count": 14,
   "metadata": {},
   "outputs": [],
   "source": [
    "# annualised returns for a portfolio\n",
    "def neg_annualised_return(weights, expected_returns, cov_matrix):\n",
    "    return -annualised_performance(weights, expected_returns, cov_matrix)[0]\n",
    "\n",
    "\n",
    "# annualised volatility for a portfolio\n",
    "def annualised_volatility(weights, expected_returns, cov_matrix):\n",
    "    return annualised_performance(weights, expected_returns, cov_matrix)[1]\n",
    "\n",
    "\n",
    "# given fixed returns, minimize volatility\n",
    "def minimize_volatility(expected_returns, cov_matrix, target_return):\n",
    "    num_assets = len(expected_returns) \n",
    "    args = (expected_returns, cov_matrix)\n",
    "    bounds = tuple((0.0, 1.0) for asset in range(num_assets))\n",
    "    constraints = ({'type': 'eq', 'fun': lambda x: neg_annualised_return(x, expected_returns, cov_matrix) + target_return},\n",
    "                   {'type': 'eq', 'fun': lambda x: np.sum(x) - 1})\n",
    "    return minimize(annualised_volatility, num_assets * [1/num_assets], args=args, bounds=bounds, constraints=constraints)\n",
    "\n",
    "    \n",
    "# given fixed volatiliy, maximize returns\n",
    "def maximize_returns(expected_returns, cov_matrix, target_volatility):\n",
    "    num_assets = len(expected_returns) \n",
    "    args = (expected_returns, cov_matrix)\n",
    "    bounds = tuple((0.0, 1.0) for asset in range(num_assets))\n",
    "    constraints = ({'type': 'eq', 'fun': lambda x: annualised_volatility(x, expected_returns, cov_matrix) - target_volatility},\n",
    "                   {'type': 'eq', 'fun': lambda x: np.sum(x) - 1})\n",
    "    return minimize(neg_annualised_return, num_assets * [1/num_assets], args=args, bounds=bounds, constraints=constraints)    "
   ]
  },
  {
   "cell_type": "code",
   "execution_count": 15,
   "metadata": {},
   "outputs": [
    {
     "name": "stdout",
     "output_type": "stream",
     "text": [
      "Optimized sharpe ratio weights: [0.07145968 0.63675259 0.         0.         0.24685923 0.0449285 ]\n",
      "\n",
      "Minimized annualised volatility for target returns 0.2: 0.20654399273176213\n",
      "Minimized annualised volatility weights: [0.38321581 0.18902199 0.32315456 0.01216552 0.03069213 0.06174999]\n",
      "\n",
      "Maximized annualised returns for target volatility 0.2: 0.16542798834847974\n",
      "Maximized annualised returns weights: [3.84355752e-01 5.58281932e-02 4.46779196e-01 5.62818903e-02\n",
      " 2.23616698e-18 5.67549690e-02]\n"
     ]
    }
   ],
   "source": [
    "print(f'Optimized sharpe ratio weights: {result}\\n')\n",
    "\n",
    "target_return = 0.2\n",
    "volatility_result = minimize_volatility(expected_returns, cov_matrix, target_return).x\n",
    "print(f'Minimized annualised volatility for target returns {target_return}: {annualised_volatility(volatility_result, expected_returns, cov_matrix)}')\n",
    "print(f'Minimized annualised volatility weights: {volatility_result}\\n')\n",
    "\n",
    "target_volatility = 0.2\n",
    "returns_result = maximize_returns(expected_returns, cov_matrix, target_volatility).x\n",
    "print(f'Maximized annualised returns for target volatility {target_volatility}: {-neg_annualised_return(returns_result, expected_returns, cov_matrix)}')\n",
    "print(f'Maximized annualised returns weights: {returns_result}')"
   ]
  },
  {
   "cell_type": "code",
   "execution_count": 16,
   "metadata": {},
   "outputs": [
    {
     "data": {
      "text/plain": [
       "Text(0, 0.5, 'annualised returns')"
      ]
     },
     "execution_count": 16,
     "metadata": {},
     "output_type": "execute_result"
    },
    {
     "data": {
      "image/png": "[encoded data removed]",
      "text/plain": [
       "<Figure size 432x288 with 1 Axes>"
      ]
     },
     "metadata": {
      "needs_background": "light"
     },
     "output_type": "display_data"
    }
   ],
   "source": [
    "# calculate efficient frontier by minimizing risk for given levels of return\n",
    "efficient_frontier = []\n",
    "target_returns = np.linspace(0.2, 0.4, 50)\n",
    "for target in target_returns:\n",
    "    weights = minimize_volatility(expected_returns, cov_matrix, target).x\n",
    "    returns, volatility = annualised_performance(weights, expected_returns, cov_matrix)\n",
    "    efficient_frontier.append((returns, volatility))\n",
    "    \n",
    "# plot efficient frontier\n",
    "plt.plot([x[1] for x in efficient_frontier], [y[0] for y in efficient_frontier], linestyle='-', color='black')\n",
    "plt.title('Efficient Frontier')\n",
    "plt.xlabel('annualised volatility')\n",
    "plt.ylabel('annualised returns')"
   ]
  },
  {
   "cell_type": "markdown",
   "metadata": {},
   "source": [
    "### Backtesting: Minimizing Volatility\n",
    "Theoretically, optimized weights that minimize volatility for a fixed return _r_ should theoretically do better in the test set than weights with a higher volatility but equal return _r_."
   ]
  },
  {
   "cell_type": "code",
   "execution_count": 94,
   "metadata": {},
   "outputs": [],
   "source": [
    "# test data\n",
    "STARTING_AMOUNT = 100000\n",
    "\n",
    "\n",
    "def calculate_returns(pct_change, weights):\n",
    "    weighted_amount = weights * STARTING_AMOUNT\n",
    "    return np.dot(weighted_amount, pct_change)\n",
    "\n",
    "\n",
    "def comparison(num_assets, expected_returns, cov_matrix, pct_change, results_dict):\n",
    "    # random weights\n",
    "    random_weights = np.random.rand(num_assets)\n",
    "    random_weights = random_weights / sum(random_weights)\n",
    "    random_returns, random_volatility = annualised_performance(random_weights, expected_returns, cov_matrix)\n",
    "    random_sharpe_ratio = sharpe_ratio(random_weights, expected_returns, cov_matrix)\n",
    "    random_results = calculate_returns(pct_change, random_weights)\n",
    "    results_dict['random_volatility'].append(random_volatility)\n",
    "    results_dict['random_returns'].append(random_returns)\n",
    "    results_dict['random_sharpe_ratio'].append(random_sharpe_ratio)\n",
    "    results_dict['random_results'].append(random_results / STARTING_AMOUNT - 1)\n",
    "    \n",
    "    # optimal weights\n",
    "    optimal_weights = minimize_volatility(expected_returns, cov_matrix, random_returns).x\n",
    "    optimal_returns, optimal_volatility = annualised_performance(optimal_weights, expected_returns, cov_matrix)\n",
    "    optimal_sharpe_ratio = sharpe_ratio(optimal_weights, expected_returns, cov_matrix)\n",
    "    optimal_results = calculate_returns(pct_change, optimal_weights)\n",
    "    results_dict['optimal_volatility'].append(optimal_volatility)\n",
    "    results_dict['optimal_returns'].append(optimal_returns)\n",
    "    results_dict['optimal_sharpe_ratio'].append(optimal_sharpe_ratio)\n",
    "    results_dict['optimal_results'].append(optimal_results / STARTING_AMOUNT - 1)\n",
    "    \n",
    "\n",
    "def test(num_assets, test_df, train_df, num_iters):\n",
    "    expected_returns, cov_matrix = extract_info(train_df)\n",
    "    pct_change = np.exp(test_df.pct_change().apply(lambda x: np.log(1+x)).sum())\n",
    "    results_dict = defaultdict(list)\n",
    "    \n",
    "    for i in range(num_iters):\n",
    "        comparison(num_assets, expected_returns, cov_matrix, pct_change, results_dict)\n",
    "    \n",
    "    return pd.DataFrame.from_dict(results_dict)"
   ]
  },
  {
   "cell_type": "code",
   "execution_count": 92,
   "metadata": {},
   "outputs": [
    {
     "name": "stdout",
     "output_type": "stream",
     "text": [
      "We started with 100000\n"
     ]
    }
   ],
   "source": [
    "BOLD_PREFIX = '\\033[1m'\n",
    "BOLD_SUFFIX = '\\033[0m'\n",
    "NUM_ITERS = 50\n",
    "FORMATTING = 'Volatility: {:<10} Expected Returns: {:<10} Sharpe Ratio: {:<10} Results: {:<10}'\n",
    "\n",
    "\n",
    "print(f'We started with {STARTING_AMOUNT}')"
   ]
  },
  {
   "cell_type": "code",
   "execution_count": 95,
   "metadata": {},
   "outputs": [
    {
     "name": "stdout",
     "output_type": "stream",
     "text": [
      "\u001b[1mIndividual stocks: random weights\u001b[0m\n",
      "Volatility: 0.22393    Expected Returns: 0.16777    Sharpe Ratio: 0.67687    Results: 0.38947   \n",
      "\u001b[1mIndividual stocks: optimal weights\u001b[0m\n",
      "Volatility: 0.20027    Expected Returns: 0.16777    Sharpe Ratio: 0.75682    Results: 0.52026   \n"
     ]
    },
    {
     "data": {
      "image/png": "[encoded data removed]",
      "text/plain": [
       "<Figure size 432x288 with 1 Axes>"
      ]
     },
     "metadata": {
      "needs_background": "light"
     },
     "output_type": "display_data"
    }
   ],
   "source": [
    "### INDIVIDUAL STOCKS\n",
    "results_df1 = test(len(tickers1), df1_test, df1_train, NUM_ITERS)\n",
    "results_df1 = results_df1.sort_values('random_returns')\n",
    "\n",
    "# single result\n",
    "result = results_df1.iloc[0,:]\n",
    "print(f'{BOLD_PREFIX}Individual stocks: random weights{BOLD_SUFFIX}')\n",
    "print(FORMATTING.format(round(result['random_volatility'], 5), round(result['random_returns'], 5), round(result['random_sharpe_ratio'], 5), round(result['random_results'], 5)))\n",
    "print(f'{BOLD_PREFIX}Individual stocks: optimal weights{BOLD_SUFFIX}')\n",
    "print(FORMATTING.format(round(result['optimal_volatility'], 5), round(result['optimal_returns'], 5), round(result['optimal_sharpe_ratio'], 5), round(result['optimal_results'], 5)))\n",
    "\n",
    "# plot actual returns against expected returns\n",
    "plt.plot(results_df1['random_returns'], results_df1['random_results'], label = \"random weights\")\n",
    "plt.plot(results_df1['optimal_returns'], results_df1['optimal_results'], label = \"optimal weights\")\n",
    "plt.ylabel('actual returns')\n",
    "plt.xlabel('expected returns')\n",
    "plt.title('Portfolio performance of random weights vs. optimal weights')\n",
    "plt.legend()\n",
    "plt.show()"
   ]
  },
  {
   "cell_type": "code",
   "execution_count": 98,
   "metadata": {},
   "outputs": [
    {
     "name": "stdout",
     "output_type": "stream",
     "text": [
      "\u001b[1mETFs: random weights\u001b[0m\n",
      "Volatility: 0.13293    Expected Returns: 0.08373    Sharpe Ratio: 0.50798    Results: 0.25406   \n",
      "\u001b[1mETFs: optimal weights\u001b[0m\n",
      "Volatility: 0.11112    Expected Returns: 0.08373    Sharpe Ratio: 0.60768    Results: 0.26609   \n"
     ]
    },
    {
     "data": {
      "image/png": "[encoded data removed]",
      "text/plain": [
       "<Figure size 432x288 with 1 Axes>"
      ]
     },
     "metadata": {
      "needs_background": "light"
     },
     "output_type": "display_data"
    }
   ],
   "source": [
    "### ETFS\n",
    "results_df2 = test(len(tickers2), df2_test, df2_train, NUM_ITERS)\n",
    "results_df2 = results_df2.sort_values('random_returns')\n",
    "\n",
    "# single result\n",
    "result = results_df2.iloc[0,:]\n",
    "print(f'{BOLD_PREFIX}ETFs: random weights{BOLD_SUFFIX}')\n",
    "print(FORMATTING.format(round(result['random_volatility'], 5), round(result['random_returns'], 5), round(result['random_sharpe_ratio'], 5), round(result['random_results'], 5)))\n",
    "print(f'{BOLD_PREFIX}ETFs: optimal weights{BOLD_SUFFIX}')\n",
    "print(FORMATTING.format(round(result['optimal_volatility'], 5), round(result['optimal_returns'], 5), round(result['optimal_sharpe_ratio'], 5), round(result['optimal_results'], 5)))\n",
    "\n",
    "# plot actual returns against expected returns\n",
    "plt.plot(results_df2['random_returns'], results_df2['random_results'], label = \"random weights\")\n",
    "plt.plot(results_df2['optimal_returns'], results_df2['optimal_results'], label = \"optimal weights\")\n",
    "plt.ylabel('actual returns')\n",
    "plt.xlabel('expected returns')\n",
    "plt.title('Portfolio performance of random weights vs. optimal weights')\n",
    "plt.legend()\n",
    "plt.show()"
   ]
  },
  {
   "cell_type": "code",
   "execution_count": null,
   "metadata": {},
   "outputs": [],
   "source": [
    "# plot sharpe ratio against actual returns\n",
    "# plot volatility against actual returns"
   ]
  },
  {
   "cell_type": "markdown",
   "metadata": {},
   "source": [
    "### References\n",
    "https://www.machinelearningplus.com/machine-learning/portfolio-optimization-python-example/\n",
    "\n",
    "https://towardsdatascience.com/efficient-frontier-portfolio-optimisation-in-python-e7844051e7f"
   ]
  }
 ],
 "metadata": {
  "kernelspec": {
   "display_name": "Python [conda env:myenv]",
   "language": "python",
   "name": "conda-env-myenv-py"
  },
  "language_info": {
   "codemirror_mode": {
    "name": "ipython",
    "version": 3
   },
   "file_extension": ".py",
   "mimetype": "text/x-python",
   "name": "python",
   "nbconvert_exporter": "python",
   "pygments_lexer": "ipython3",
   "version": "3.8.10"
  }
 },
 "nbformat": 4,
 "nbformat_minor": 4
}
