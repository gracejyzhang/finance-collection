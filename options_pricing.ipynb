{
 "cells": [
  {
   "cell_type": "code",
   "execution_count": 1,
   "metadata": {},
   "outputs": [],
   "source": [
    "from scipy.stats import norm\n",
    "from pandas import DataFrame\n",
    "import math\n",
    "import numpy as np\n",
    "import pandas as pd\n",
    "from enum import Enum\n",
    "import requests"
   ]
  },
  {
   "cell_type": "code",
   "execution_count": 2,
   "metadata": {},
   "outputs": [],
   "source": [
    "# time to maturity is in years\n",
    "class Stock:\n",
    "    def __init__(self, strike_price, stock_price, time_to_maturity, risk_free_rate, volatility, is_call):\n",
    "        self.K = strike_price\n",
    "        self.S0 = stock_price\n",
    "        self.T = time_to_maturity\n",
    "        self.r = risk_free_rate\n",
    "        self.sigma = volatility\n",
    "        self.is_call = is_call"
   ]
  },
  {
   "cell_type": "markdown",
   "metadata": {},
   "source": [
    "### Black-Scholes Pricing\n",
    "[Reference 1](https://www.investopedia.com/terms/b/blackscholes.asp)\n",
    "[Reference 2](https://www.quantconnect.com/tutorials/introduction-to-options/options-pricing-black-scholes-merton-model)\n",
    "[Reference 3](https://medium.com/swlh/calculating-option-premiums-using-the-black-scholes-model-in-python-e9ed227afbee)"
   ]
  },
  {
   "cell_type": "code",
   "execution_count": 3,
   "metadata": {},
   "outputs": [],
   "source": [
    "def black_scholes(stock):\n",
    "    d1 = (math.log(stock.S0 / stock.K) + (stock.r + stock.sigma ** 2 / 2) * stock.T) / (stock.sigma * math.sqrt(stock.T))\n",
    "    d2 = d1 - stock.sigma * math.sqrt(stock.T)\n",
    "    if stock.is_call:\n",
    "        return stock.S0 * norm.cdf(d1) - norm.cdf(d2) * stock.K * math.exp(-stock.r * stock.T) \n",
    "    else:\n",
    "        return stock.S0 * math.exp(-stock.r * stock.T) * norm.cdf(-d2) - stock.S0 * norm.cdf(-d1)        "
   ]
  },
  {
   "cell_type": "markdown",
   "metadata": {},
   "source": [
    "### Monte Carlo Pricing (using Geometric Brownian Motion)\n",
    "[Reference 1](https://towardsdatascience.com/monte-carlo-pricing-in-python-eafc29e3b6c9)\n",
    "[Reference 2](https://www.quantconnect.com/tutorials/introduction-to-options/stochastic-processes-and-monte-carlo-method)\n",
    "[Reference 3](https://www.codearmo.com/blog/pricing-options-monte-carlo-simulation-python)"
   ]
  },
  {
   "cell_type": "code",
   "execution_count": 4,
   "metadata": {},
   "outputs": [],
   "source": [
    "def monte_carlo(stock, steps, trials):\n",
    "    dt = stock.T / steps\n",
    "    drift = stock.r - stock.sigma ** 2 / 2\n",
    "    dWt = np.random.normal(size=(steps, trials))\n",
    "    dYt = drift * dt + stock.sigma * np.sqrt(dt) * dWt\n",
    "    prices = np.exp(np.log(stock.S0) + np.sum(dYt, axis=0))\n",
    "    payoffs = np.maximum(prices - stock.K, 0)\n",
    "    return np.average(payoffs) * np.exp(-stock.r * stock.T)"
   ]
  },
  {
   "cell_type": "markdown",
   "metadata": {},
   "source": [
    "### CRR Binomial Tree Pricing\n",
    "[Reference 1](https://www.linkedin.com/pulse/python-implementation-binomial-stock-option-pricing-sheikh-pancham)"
   ]
  },
  {
   "cell_type": "code",
   "execution_count": 5,
   "metadata": {},
   "outputs": [],
   "source": [
    "def binomial_crr(stock, steps):\n",
    "    dt = stock.T / steps\n",
    "    u = np.exp(stock.sigma * np.sqrt(dt))\n",
    "    d = 1 / u\n",
    "    pu = (np.exp(stock.r * dt) - d) / (u - d)\n",
    "    pd = 1 - pu\n",
    "    \n",
    "    stock_tree = np.zeros((steps + 1, steps + 1))\n",
    "    prob_tree = np.zeros((steps + 1, steps + 1))\n",
    "    payoff_tree = np.zeros((steps + 1, steps + 1))\n",
    "    for j in range(steps + 1):\n",
    "        for i in range(j + 1):\n",
    "            stock_tree[i][j] = stock.S0 * u ** i * d ** (j - i)\n",
    "            prob_tree[i][j] = math.factorial(j) * pu ** i * pd ** (j - i) / (math.factorial(i) * math.factorial(j - i))\n",
    "    for i in range(steps + 1):\n",
    "        payoff_tree[i][steps] = np.maximum(0, stock_tree[i][steps] - stock.K)\n",
    "        \n",
    "    payoff = 0\n",
    "    for i in range(steps + 1):\n",
    "        payoff += payoff_tree[i][steps] * prob_tree[i][steps]\n",
    "    return payoff * np.exp(-stock.r * stock.T)"
   ]
  },
  {
   "cell_type": "markdown",
   "metadata": {},
   "source": [
    "### Comparisons\n",
    "Assumptions: European options, no dividend"
   ]
  },
  {
   "cell_type": "code",
   "execution_count": null,
   "metadata": {},
   "outputs": [],
   "source": []
  },
  {
   "cell_type": "code",
   "execution_count": null,
   "metadata": {},
   "outputs": [],
   "source": []
  },
  {
   "cell_type": "code",
   "execution_count": 6,
   "metadata": {},
   "outputs": [
    {
     "name": "stdout",
     "output_type": "stream",
     "text": [
      "153.23789489883916\n",
      "151.9279472987235\n",
      "153.24008036670628\n"
     ]
    }
   ],
   "source": [
    "stock = Stock(785, 927.96, 100/252, 0.01, 0.23, True)\n",
    "\n",
    "print(black_scholes(stock))\n",
    "print(monte_carlo(stock, 100, 1000))\n",
    "print(binomial_crr(stock, 100))"
   ]
  }
 ],
 "metadata": {
  "kernelspec": {
   "display_name": "Python [conda env:myenv]",
   "language": "python",
   "name": "conda-env-myenv-py"
  },
  "language_info": {
   "codemirror_mode": {
    "name": "ipython",
    "version": 3
   },
   "file_extension": ".py",
   "mimetype": "text/x-python",
   "name": "python",
   "nbconvert_exporter": "python",
   "pygments_lexer": "ipython3",
   "version": "3.8.10"
  }
 },
 "nbformat": 4,
 "nbformat_minor": 4
}
